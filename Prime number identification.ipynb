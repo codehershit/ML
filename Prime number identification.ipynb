{
 "cells": [
  {
   "cell_type": "code",
   "execution_count": null,
   "id": "74d04bc7",
   "metadata": {},
   "outputs": [],
   "source": [
    "import numpy as np\n",
    "def createList(r1, r2):\n",
    "    return np.arange(r1, r2+1)\n",
    "def primecheck(x):\n",
    "    if x== 1 or x== 2 or x==3:\n",
    "        print(\"prime\")\n",
    "    \n",
    "    elif math.remainder(x,6)== 1 or math.remainder(x,6) == -1:\n",
    "        y= math.floor(x/2)\n",
    "        t= createList(2,y)\n",
    "        for i in t:\n",
    "            if math.remainder(x,i)== 0:\n",
    "                print(\"Not a prime\")\n",
    "                break\n",
    "        #print( \"Prime\")    \n",
    "        else:\n",
    "                print( \"Prime\")\n",
    "    else:\n",
    "        print(\"Not a prime\")\n",
    "        "
   ]
  }
 ],
 "metadata": {
  "kernelspec": {
   "display_name": "Python 3 (ipykernel)",
   "language": "python",
   "name": "python3"
  },
  "language_info": {
   "codemirror_mode": {
    "name": "ipython",
    "version": 3
   },
   "file_extension": ".py",
   "mimetype": "text/x-python",
   "name": "python",
   "nbconvert_exporter": "python",
   "pygments_lexer": "ipython3",
   "version": "3.9.12"
  }
 },
 "nbformat": 4,
 "nbformat_minor": 5
}
